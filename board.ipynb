{
 "cells": [
  {
   "cell_type": "code",
   "execution_count": 1,
   "metadata": {},
   "outputs": [],
   "source": [
    "%load_ext autoreload\n",
    "%autoreload 2\n",
    "%matplotlib inline\n",
    "import matplotlib.pyplot as plt\n",
    "import numpy as np\n"
   ]
  },
  {
   "cell_type": "code",
   "execution_count": 40,
   "metadata": {},
   "outputs": [],
   "source": [
    "from simulator import * "
   ]
  },
  {
   "cell_type": "code",
   "execution_count": 3,
   "metadata": {},
   "outputs": [],
   "source": [
    "sim = Simulator()"
   ]
  },
  {
   "cell_type": "code",
   "execution_count": 4,
   "metadata": {},
   "outputs": [
    {
     "data": {
      "image/png": "[encoded data removed]",
      "text/plain": [
       "<matplotlib.figure.Figure at 0x7fac70bb9748>"
      ]
     },
     "metadata": {},
     "output_type": "display_data"
    },
    {
     "data": {
      "image/png": "[encoded data removed]",
      "text/plain": [
       "<matplotlib.figure.Figure at 0x7fac70be4438>"
      ]
     },
     "metadata": {},
     "output_type": "display_data"
    }
   ],
   "source": [
    "def plot(state):\n",
    "    fig, ax = plt.subplots(figsize=(8,4))\n",
    "    ax.imshow(unpack(state.board), cmap='gray')\n",
    "    ax.set_xticks(np.arange(-.5, 8, 1));\n",
    "    ax.set_yticks(np.arange(-.55, 8, 1));\n",
    "    ax.set_xticklabels([]);\n",
    "    ax.set_yticklabels([]);\n",
    "    ax.grid(which='major', color='#666666', linestyle='-', linewidth=1)\n",
    "    plt.show()\n",
    "    \n",
    "    pieces = np.concatenate([unpack(p)[:5, :6] for p in state.pieces], axis=1)\n",
    "    pieces *= 4\n",
    "    pieces[:, 5::6] = 1\n",
    "    fig, ax = plt.subplots(figsize=(4,2))\n",
    "    ax.imshow(pieces[:, :-1], cmap='gray')\n",
    "    ax.set_xticklabels([]);\n",
    "    ax.set_yticklabels([]);\n",
    "    ax.set_xticks(np.arange(-.5, 17, 1));\n",
    "    ax.set_yticks(np.arange(-.55, 5, 1));\n",
    "    ax.grid(which='major', color='#666666', linestyle='-', linewidth=1)\n",
    "    plt.show()\n",
    "\n",
    "test_state = State(127+(127<<8))\n",
    "test_state.pieces[0] = 1\n",
    "test_state.pieces[1] = 7\n",
    "test_state.pieces[2] = 257\n",
    "plot(test_state)"
   ]
  },
  {
   "cell_type": "code",
   "execution_count": null,
   "metadata": {},
   "outputs": [],
   "source": []
  },
  {
   "cell_type": "code",
   "execution_count": 6,
   "metadata": {
    "scrolled": true
   },
   "outputs": [
    {
     "name": "stdout",
     "output_type": "stream",
     "text": [
      "Step 1\n"
     ]
    },
    {
     "data": {
      "image/png": "[encoded data removed]",
      "text/plain": [
       "<matplotlib.figure.Figure at 0x7fac70a277b8>"
      ]
     },
     "metadata": {},
     "output_type": "display_data"
    },
    {
     "data": {
      "image/png": "[encoded data removed]",
      "text/plain": [
       "<matplotlib.figure.Figure at 0x7fac70939f98>"
      ]
     },
     "metadata": {},
     "output_type": "display_data"
    },
    {
     "name": "stdout",
     "output_type": "stream",
     "text": [
      "Available moves: 46589\n",
      "Moves [(0, 1, 2), (1, 3, 0), (2, 0, 3)]\n",
      "Step 2\n"
     ]
    },
    {
     "data": {
      "image/png": "[encoded data removed]",
      "text/plain": [
       "<matplotlib.figure.Figure at 0x7fac7091f240>"
      ]
     },
     "metadata": {},
     "output_type": "display_data"
    },
    {
     "data": {
      "image/png": "[encoded data removed]",
      "text/plain": [
       "<matplotlib.figure.Figure at 0x7fac708d6080>"
      ]
     },
     "metadata": {},
     "output_type": "display_data"
    },
    {
     "name": "stdout",
     "output_type": "stream",
     "text": [
      "Available moves: 4584\n",
      "Moves [(0, 6, 1), (1, 1, 7), (2, 6, 4)]\n",
      "Step 3\n"
     ]
    },
    {
     "data": {
      "image/png": "[encoded data removed]",
      "text/plain": [
       "<matplotlib.figure.Figure at 0x7fac70a5f7f0>"
      ]
     },
     "metadata": {},
     "output_type": "display_data"
    },
    {
     "data": {
      "image/png": "[encoded data removed]",
      "text/plain": [
       "<matplotlib.figure.Figure at 0x7fac411f2978>"
      ]
     },
     "metadata": {},
     "output_type": "display_data"
    },
    {
     "name": "stdout",
     "output_type": "stream",
     "text": [
      "Available moves: 6\n",
      "Moves [(1, 0, 6), (2, 7, 7), (0, 2, 5)]\n",
      "Step 4\n"
     ]
    },
    {
     "data": {
      "image/png": "[encoded data removed]",
      "text/plain": [
       "<matplotlib.figure.Figure at 0x7fac70a5ffd0>"
      ]
     },
     "metadata": {},
     "output_type": "display_data"
    },
    {
     "data": {
      "image/png": "[encoded data removed]",
      "text/plain": [
       "<matplotlib.figure.Figure at 0x7fac70942208>"
      ]
     },
     "metadata": {},
     "output_type": "display_data"
    },
    {
     "name": "stdout",
     "output_type": "stream",
     "text": [
      "Available moves: 299\n",
      "Moves [(0, 4, 2), (1, 3, 1), (2, 0, 1)]\n",
      "Step 5\n"
     ]
    },
    {
     "data": {
      "image/png": "[encoded data removed]",
      "text/plain": [
       "<matplotlib.figure.Figure at 0x7fac70afecc0>"
      ]
     },
     "metadata": {},
     "output_type": "display_data"
    },
    {
     "data": {
      "image/png": "[encoded data removed]",
      "text/plain": [
       "<matplotlib.figure.Figure at 0x7fac3e628ef0>"
      ]
     },
     "metadata": {},
     "output_type": "display_data"
    },
    {
     "name": "stdout",
     "output_type": "stream",
     "text": [
      "Available moves: 1104\n",
      "Moves [(0, 0, 7), (1, 1, 3), (2, 2, 2)]\n",
      "Step 6\n"
     ]
    },
    {
     "data": {
      "image/png": "[encoded data removed]",
      "text/plain": [
       "<matplotlib.figure.Figure at 0x7fac7083f390>"
      ]
     },
     "metadata": {},
     "output_type": "display_data"
    },
    {
     "data": {
      "image/png": "[encoded data removed]",
      "text/plain": [
       "<matplotlib.figure.Figure at 0x7fac707bedd8>"
      ]
     },
     "metadata": {},
     "output_type": "display_data"
    },
    {
     "name": "stdout",
     "output_type": "stream",
     "text": [
      "Available moves: 173\n",
      "Moves [(0, 2, 0), (1, 2, 5), (2, 3, 1)]\n",
      "Step 7\n"
     ]
    },
    {
     "data": {
      "image/png": "[encoded data removed]",
      "text/plain": [
       "<matplotlib.figure.Figure at 0x7fac7072da90>"
      ]
     },
     "metadata": {},
     "output_type": "display_data"
    },
    {
     "data": {
      "image/png": "[encoded data removed]",
      "text/plain": [
       "<matplotlib.figure.Figure at 0x7fac70724f60>"
      ]
     },
     "metadata": {},
     "output_type": "display_data"
    },
    {
     "name": "stdout",
     "output_type": "stream",
     "text": [
      "Available moves: 0\n"
     ]
    }
   ],
   "source": [
    "state = State()\n",
    "state.draw()\n",
    "\n",
    "step = 0\n",
    "while True:\n",
    "    step += 1\n",
    "    print(\"Step\", step)\n",
    "    plot(state)\n",
    "    boards = sim.brute(state)\n",
    "    print(\"Available moves:\", len(boards))\n",
    "    if boards.shape[0] == 0:\n",
    "        break\n",
    "\n",
    "    best_board = boards[np.random.randint(boards.shape[0])]\n",
    "    best_move = sim.get_move(best_board)\n",
    "    print(\"Moves\", best_move)\n",
    "    state = State(best_board)\n",
    "    state.draw()"
   ]
  },
  {
   "cell_type": "code",
   "execution_count": null,
   "metadata": {},
   "outputs": [],
   "source": []
  },
  {
   "cell_type": "code",
   "execution_count": 41,
   "metadata": {},
   "outputs": [],
   "source": [
    "state = State()\n"
   ]
  },
  {
   "cell_type": "code",
   "execution_count": 72,
   "metadata": {},
   "outputs": [
    {
     "data": {
      "text/plain": [
       "array([         1,          3,          7,         15,         31,\n",
       "              257,        771,       1794,       1793,        259,\n",
       "            65793,     263175,     460551,   16843009, 4311810305],\n",
       "      dtype=uint64)"
      ]
     },
     "execution_count": 72,
     "metadata": {},
     "output_type": "execute_result"
    }
   ],
   "source": [
    "np.array([\n",
    "    1,\n",
    "    3,\n",
    "    7,\n",
    "    15,\n",
    "    31,\n",
    "    1 | (1<<8),\n",
    "    3 | (3<<8),\n",
    "    2 | (7<<8),\n",
    "    1 | (7<<8),\n",
    "    3 | (1<<8),\n",
    "    1 | (1<<8) | (1<<16),\n",
    "    7 | (4<<8) | (4<<16),\n",
    "    7 | (7<<8) | (7<<16),\n",
    "    1 | (1<<8) | (1<<16) | (1<<24),\n",
    "    1 | (1<<8) | (1<<16) | (1<<24) | (1<<32),\n",
    "    ], dtype=np.uint64)"
   ]
  },
  {
   "cell_type": "code",
   "execution_count": 75,
   "metadata": {},
   "outputs": [
    {
     "data": {
      "image/png": "[encoded data removed]",
      "text/plain": [
       "<Figure size 576x288 with 1 Axes>"
      ]
     },
     "metadata": {},
     "output_type": "display_data"
    },
    {
     "data": {
      "image/png": "[encoded data removed]",
      "text/plain": [
       "<Figure size 288x144 with 1 Axes>"
      ]
     },
     "metadata": {},
     "output_type": "display_data"
    }
   ],
   "source": [
    "state.pieces[0] = 31\n",
    "state.pieces[1] = 1\n",
    "state.pieces[2] = 31\n",
    "plot(state)"
   ]
  },
  {
   "cell_type": "code",
   "execution_count": 63,
   "metadata": {
    "scrolled": true
   },
   "outputs": [
    {
     "data": {
      "text/plain": [
       "array([                   1,                    2,                    5,\n",
       "                      32512, 12273903644374837845], dtype=uint64)"
      ]
     },
     "execution_count": 63,
     "metadata": {},
     "output_type": "execute_result"
    }
   ],
   "source": [
    "mask = ((1 << 8) - 1) // 3\n",
    "mask = mask | (mask << 9)\n",
    "mask = mask | (mask << 16)\n",
    "mask = mask | (mask << 32)\n",
    "a = np.array([1, 2, 5, 127<<8, mask], dtype=np.uint64)\n",
    "a"
   ]
  },
  {
   "cell_type": "code",
   "execution_count": 70,
   "metadata": {},
   "outputs": [
    {
     "data": {
      "text/plain": [
       "12273903644374837845"
      ]
     },
     "execution_count": 70,
     "metadata": {},
     "output_type": "execute_result"
    }
   ],
   "source": [
    "np.random.choice(a, p=a/a.sum())"
   ]
  },
  {
   "cell_type": "code",
   "execution_count": 64,
   "metadata": {},
   "outputs": [
    {
     "name": "stdout",
     "output_type": "stream",
     "text": [
      "(5, 8, 8)\n"
     ]
    },
    {
     "data": {
      "text/plain": [
       "array([[[1, 0, 0, 0, 0, 0, 0, 0],\n",
       "        [0, 0, 0, 0, 0, 0, 0, 0],\n",
       "        [0, 0, 0, 0, 0, 0, 0, 0],\n",
       "        [0, 0, 0, 0, 0, 0, 0, 0],\n",
       "        [0, 0, 0, 0, 0, 0, 0, 0],\n",
       "        [0, 0, 0, 0, 0, 0, 0, 0],\n",
       "        [0, 0, 0, 0, 0, 0, 0, 0],\n",
       "        [0, 0, 0, 0, 0, 0, 0, 0]],\n",
       "\n",
       "       [[0, 1, 0, 0, 0, 0, 0, 0],\n",
       "        [0, 0, 0, 0, 0, 0, 0, 0],\n",
       "        [0, 0, 0, 0, 0, 0, 0, 0],\n",
       "        [0, 0, 0, 0, 0, 0, 0, 0],\n",
       "        [0, 0, 0, 0, 0, 0, 0, 0],\n",
       "        [0, 0, 0, 0, 0, 0, 0, 0],\n",
       "        [0, 0, 0, 0, 0, 0, 0, 0],\n",
       "        [0, 0, 0, 0, 0, 0, 0, 0]],\n",
       "\n",
       "       [[1, 0, 1, 0, 0, 0, 0, 0],\n",
       "        [0, 0, 0, 0, 0, 0, 0, 0],\n",
       "        [0, 0, 0, 0, 0, 0, 0, 0],\n",
       "        [0, 0, 0, 0, 0, 0, 0, 0],\n",
       "        [0, 0, 0, 0, 0, 0, 0, 0],\n",
       "        [0, 0, 0, 0, 0, 0, 0, 0],\n",
       "        [0, 0, 0, 0, 0, 0, 0, 0],\n",
       "        [0, 0, 0, 0, 0, 0, 0, 0]],\n",
       "\n",
       "       [[0, 0, 0, 0, 0, 0, 0, 0],\n",
       "        [1, 1, 1, 1, 1, 1, 1, 0],\n",
       "        [0, 0, 0, 0, 0, 0, 0, 0],\n",
       "        [0, 0, 0, 0, 0, 0, 0, 0],\n",
       "        [0, 0, 0, 0, 0, 0, 0, 0],\n",
       "        [0, 0, 0, 0, 0, 0, 0, 0],\n",
       "        [0, 0, 0, 0, 0, 0, 0, 0],\n",
       "        [0, 0, 0, 0, 0, 0, 0, 0]],\n",
       "\n",
       "       [[1, 0, 1, 0, 1, 0, 1, 0],\n",
       "        [0, 1, 0, 1, 0, 1, 0, 1],\n",
       "        [1, 0, 1, 0, 1, 0, 1, 0],\n",
       "        [0, 1, 0, 1, 0, 1, 0, 1],\n",
       "        [1, 0, 1, 0, 1, 0, 1, 0],\n",
       "        [0, 1, 0, 1, 0, 1, 0, 1],\n",
       "        [1, 0, 1, 0, 1, 0, 1, 0],\n",
       "        [0, 1, 0, 1, 0, 1, 0, 1]]], dtype=uint8)"
      ]
     },
     "execution_count": 64,
     "metadata": {},
     "output_type": "execute_result"
    }
   ],
   "source": [
    "d = unpack_array(a)\n",
    "print(d.shape)\n",
    "d"
   ]
  },
  {
   "cell_type": "code",
   "execution_count": null,
   "metadata": {},
   "outputs": [],
   "source": []
  },
  {
   "cell_type": "code",
   "execution_count": 93,
   "metadata": {},
   "outputs": [
    {
     "name": "stdout",
     "output_type": "stream",
     "text": [
      "Tensor(\"train/IteratorGetNext:0\", shape=(512, 8, 8), dtype=uint8)\n",
      "Tensor(\"train/model/PadV2:0\", shape=(512, 12, 12), dtype=uint8)\n",
      "Tensor(\"train/model/Reshape:0\", shape=(512, 12, 12, 1), dtype=float32)\n",
      "Tensor(\"train/model/conv2d/Relu:0\", shape=(512, 8, 8, 64), dtype=float32)\n",
      "Tensor(\"train/model/conv2d_1/Relu:0\", shape=(512, 4, 4, 256), dtype=float32)\n",
      "Tensor(\"train/model/conv2d_2/Relu:0\", shape=(512, 1, 1, 1024), dtype=float32)\n",
      "Tensor(\"train/model/Reshape_1:0\", shape=(512, 1024), dtype=float32)\n",
      "Tensor(\"train/model/dense/Relu:0\", shape=(512, 1024), dtype=float32)\n",
      "Tensor(\"train/model/dense_1/BiasAdd:0\", shape=(512, 2), dtype=float32)\n",
      "Tensor(\"Placeholder:0\", shape=(?, 8, 8), dtype=uint8)\n",
      "Tensor(\"predict/model/PadV2:0\", shape=(?, 12, 12), dtype=uint8)\n",
      "Tensor(\"predict/model/Reshape:0\", shape=(?, 12, 12, 1), dtype=float32)\n",
      "Tensor(\"predict/model/conv2d/Relu:0\", shape=(?, 8, 8, 64), dtype=float32)\n",
      "Tensor(\"predict/model/conv2d_1/Relu:0\", shape=(?, 4, 4, 256), dtype=float32)\n",
      "Tensor(\"predict/model/conv2d_2/Relu:0\", shape=(?, 1, 1, 1024), dtype=float32)\n",
      "Tensor(\"predict/model/Reshape_1:0\", shape=(?, 1024), dtype=float32)\n",
      "Tensor(\"predict/model/dense/Relu:0\", shape=(?, 1024), dtype=float32)\n",
      "Tensor(\"predict/model/dense_1/BiasAdd:0\", shape=(?, 2), dtype=float32)\n"
     ]
    }
   ],
   "source": [
    "from model import model\n",
    "import tensorflow as tf\n",
    "\n",
    "tf.reset_default_graph()\n",
    "\n",
    "tf_input_data = tf.placeholder(tf.uint8, [None, 8, 8])\n",
    "base_learning_rate = 1e-3\n",
    "\n",
    "\n",
    "MEMORY_CAPACITY = 200000\n",
    "batch_size = 512\n",
    "\n",
    "# MEMORY stores tuples:\n",
    "# (observation, label, reward)\n",
    "MEMORY = deque([], maxlen=MEMORY_CAPACITY)\n",
    "def gen():\n",
    "    for m in list(MEMORY):\n",
    "        yield m\n",
    "        \n",
    "with tf.name_scope('dataset'):\n",
    "    # the dataset reads from MEMORY\n",
    "    ds = tf.data.Dataset.from_generator(gen, output_types=(tf.uint8, tf.float32))\n",
    "    ds = ds.shuffle(MEMORY_CAPACITY).repeat().batch(batch_size)\n",
    "    iterator = ds.make_one_shot_iterator()\n",
    "\n",
    "with tf.name_scope(\"train\"):\n",
    "    next_batch = iterator.get_next()\n",
    "    input_data, labels = next_batch\n",
    "    input_data.set_shape((batch_size, 8, 8))\n",
    "    vals = model(input_data, training=True)\n",
    "    losses = tf.losses.softmax_cross_entropy(\n",
    "        onehot_labels=tf.stack([1 - labels, labels], axis=1),\n",
    "        logits=vals['logits'],\n",
    "    )\n",
    "    tf_loss = tf.reduce_mean(losses)\n",
    "    tf_train = tf.train.AdamOptimizer(base_learning_rate).minimize(tf_loss)\n",
    "\n",
    "with tf.name_scope(\"predict\"):\n",
    "    vals = model(tf_input_data, training=False)\n",
    "    tf_probabilities = vals['probabilities']\n",
    "    "
   ]
  },
  {
   "cell_type": "code",
   "execution_count": null,
   "metadata": {
    "scrolled": false
   },
   "outputs": [
    {
     "name": "stdout",
     "output_type": "stream",
     "text": [
      "Game #  0: total   5 steps. Memory size 5\n",
      "Game #  1: total  14 steps. Memory size 19\n",
      "Game #  2: total  18 steps. Memory size 37\n",
      "Game #  3: total   9 steps. Memory size 46\n",
      "Game #  4: total   8 steps. Memory size 54\n",
      "Game #  5: total  13 steps. Memory size 67\n",
      "Game #  6: total   5 steps. Memory size 72\n",
      "Game #  7: total   7 steps. Memory size 79\n",
      "Game #  8: total   9 steps. Memory size 88\n",
      "Game #  9: total  11 steps. Memory size 99\n",
      "Game # 10: total   7 steps. Memory size 106\n",
      "Game # 11: total   8 steps. Memory size 114\n",
      "Game # 12: total   5 steps. Memory size 119\n",
      "Game # 13: total   3 steps. Memory size 122\n",
      "Game # 14: total   8 steps. Memory size 130\n",
      "Game # 15: total   6 steps. Memory size 136\n",
      "Game # 16: total  15 steps. Memory size 151\n",
      "Game # 17: total   9 steps. Memory size 160\n",
      "Game # 18: total   7 steps. Memory size 167\n",
      "Game # 19: total   6 steps. Memory size 173\n",
      "Game # 20: total  14 steps. Memory size 187\n",
      "Game # 21: total  10 steps. Memory size 197\n",
      "Game # 22: total  13 steps. Memory size 210\n",
      "Game # 23: total  12 steps. Memory size 222\n",
      "Game # 24: total   6 steps. Memory size 228\n",
      "Game # 25: total   5 steps. Memory size 233\n",
      "Game # 26: total   7 steps. Memory size 240\n",
      "Game # 27: total  10 steps. Memory size 250\n",
      "Game # 28: total  13 steps. Memory size 263\n",
      "Game # 29: total   7 steps. Memory size 270\n",
      "Game # 30: total   6 steps. Memory size 276\n",
      "Game # 31: total  10 steps. Memory size 286\n",
      "Game # 32: total   7 steps. Memory size 293\n",
      "Game # 33: total   8 steps. Memory size 301\n",
      "Game # 34: total   5 steps. Memory size 306\n",
      "Game # 35: total   4 steps. Memory size 310\n",
      "Game # 36: total   6 steps. Memory size 316\n",
      "Game # 37: total   6 steps. Memory size 322\n",
      "Game # 38: total   9 steps. Memory size 331\n",
      "Game # 39: total   5 steps. Memory size 336\n",
      "Game # 40: total  15 steps. Memory size 351\n",
      "Game # 41: total   7 steps. Memory size 358\n",
      "Game # 42: total  11 steps. Memory size 369\n",
      "Game # 43: total  12 steps. Memory size 381\n",
      "Game # 44: total   3 steps. Memory size 384\n",
      "Game # 45: total   4 steps. Memory size 388\n",
      "Game # 46: total   5 steps. Memory size 393\n",
      "Game # 47: total  11 steps. Memory size 404\n",
      "Game # 48: total   6 steps. Memory size 410\n",
      "Game # 49: total  15 steps. Memory size 425\n",
      "Game # 50: total   7 steps. Memory size 432\n",
      "Game # 51: total  14 steps. Memory size 446\n",
      "Game # 52: total   5 steps. Memory size 451\n",
      "Game # 53: total  10 steps. Memory size 461\n",
      "Game # 54: total   7 steps. Memory size 468\n",
      "Game # 55: total   5 steps. Memory size 473\n",
      "Game # 56: total   8 steps. Memory size 481\n",
      "Game # 57: total   7 steps. Memory size 488\n",
      "Game # 58: total  15 steps. Memory size 503\n",
      "Game # 59: total  10 steps. Memory size 513\n",
      "Loss 0.692945\n",
      "Game # 60: total  90 steps. Memory size 603\n",
      "Game # 61: total  24 steps. Memory size 627\n",
      "Game # 62: total  45 steps. Memory size 672\n",
      "Game # 63: total  75 steps. Memory size 747\n",
      "Game # 64: total  55 steps. Memory size 802\n",
      "Game # 65: total  34 steps. Memory size 836\n",
      "Game # 66: total  31 steps. Memory size 867\n",
      "Game # 67: total  14 steps. Memory size 881\n",
      "Game # 68: total   8 steps. Memory size 889\n",
      "Game # 69: total  30 steps. Memory size 919\n",
      "Game # 70: total  66 steps. Memory size 985\n",
      "Game # 71: total 139 steps. Memory size 1124\n",
      "Loss 0.643585\n",
      "Game # 72: total   8 steps. Memory size 1132\n",
      "Game # 73: total  31 steps. Memory size 1163\n",
      "Game # 74: total  11 steps. Memory size 1174\n",
      "Game # 75: total  18 steps. Memory size 1192\n",
      "Game # 76: total  12 steps. Memory size 1204\n",
      "Game # 77: total  10 steps. Memory size 1214\n",
      "Game # 78: total  15 steps. Memory size 1229\n",
      "Game # 79: total  10 steps. Memory size 1239\n",
      "Game # 80: total  11 steps. Memory size 1250\n",
      "Game # 81: total  12 steps. Memory size 1262\n",
      "Game # 82: total   9 steps. Memory size 1271\n",
      "Game # 83: total  11 steps. Memory size 1282\n",
      "Game # 84: total  13 steps. Memory size 1295\n",
      "Game # 85: total   9 steps. Memory size 1304\n",
      "Game # 86: total   7 steps. Memory size 1311\n",
      "Game # 87: total  10 steps. Memory size 1321\n",
      "Game # 88: total   6 steps. Memory size 1327\n",
      "Game # 89: total  23 steps. Memory size 1350\n",
      "Game # 90: total  16 steps. Memory size 1366\n",
      "Game # 91: total   7 steps. Memory size 1373\n",
      "Game # 92: total  11 steps. Memory size 1384\n",
      "Game # 93: total  10 steps. Memory size 1394\n",
      "Game # 94: total   8 steps. Memory size 1402\n",
      "Game # 95: total   9 steps. Memory size 1411\n",
      "Game # 96: total  20 steps. Memory size 1431\n",
      "Game # 97: total  24 steps. Memory size 1455\n",
      "Game # 98: total  15 steps. Memory size 1470\n",
      "Game # 99: total   9 steps. Memory size 1479\n",
      "Game #100: total  19 steps. Memory size 1498\n",
      "Game #101: total  11 steps. Memory size 1509\n",
      "Game #102: total   4 steps. Memory size 1513\n",
      "Game #103: total  11 steps. Memory size 1524\n",
      "Game #104: total   9 steps. Memory size 1533\n",
      "Game #105: total   8 steps. Memory size 1541\n",
      "Loss 0.814703\n",
      "Game #106: total  61 steps. Memory size 1602\n",
      "Game #107: total   4 steps. Memory size 1606\n",
      "Game #108: total   9 steps. Memory size 1615\n",
      "Game #109: total  17 steps. Memory size 1632\n",
      "Game #110: total  14 steps. Memory size 1646\n",
      "Game #111: total  23 steps. Memory size 1669\n",
      "Game #112: total  19 steps. Memory size 1688\n",
      "Game #113: total  39 steps. Memory size 1727\n",
      "Game #114: total  17 steps. Memory size 1744\n",
      "Game #115: total  13 steps. Memory size 1757\n",
      "Game #116: total  16 steps. Memory size 1773\n",
      "Game #117: total  16 steps. Memory size 1789\n",
      "Game #118: total  25 steps. Memory size 1814\n",
      "Game #119: total  16 steps. Memory size 1830\n",
      "Game #120: total  23 steps. Memory size 1853\n",
      "Game #121: total  43 steps. Memory size 1896\n",
      "Game #122: total  19 steps. Memory size 1915\n",
      "Game #123: total  20 steps. Memory size 1935\n",
      "Game #124: total  50 steps. Memory size 1985\n",
      "Game #125: total  18 steps. Memory size 2003\n",
      "Game #126: total  13 steps. Memory size 2016\n",
      "Game #127: total  34 steps. Memory size 2050\n",
      "Loss 0.591275\n",
      "Game #128: total 126 steps. Memory size 2176\n",
      "Game #129: total  43 steps. Memory size 2219\n",
      "Game #130: total  38 steps. Memory size 2257\n",
      "Game #131: total  12 steps. Memory size 2269\n",
      "Game #132: total  40 steps. Memory size 2309\n",
      "Game #133: total  66 steps. Memory size 2375\n",
      "Game #134: total  39 steps. Memory size 2414\n",
      "Game #135: total  29 steps. Memory size 2443\n",
      "Game #136: total  26 steps. Memory size 2469\n",
      "Game #137: total  36 steps. Memory size 2505\n",
      "Game #138: total  19 steps. Memory size 2524\n",
      "Game #139: total  34 steps. Memory size 2558\n",
      "Game #140: total  59 steps. Memory size 2617\n",
      "Loss 0.610090\n",
      "Game #141: total  42 steps. Memory size 2659\n",
      "Game #142: total  20 steps. Memory size 2679\n",
      "Game #143: total  38 steps. Memory size 2717\n",
      "Game #144: total  57 steps. Memory size 2774\n",
      "Game #145: total  23 steps. Memory size 2797\n",
      "Game #146: total  92 steps. Memory size 2889\n",
      "Game #147: total  21 steps. Memory size 2910\n",
      "Game #148: total  94 steps. Memory size 3004\n",
      "Game #149: total  99 steps. Memory size 3103\n",
      "Loss 0.622488\n",
      "Game #150: total 146 steps. Memory size 3249\n",
      "Game #151: total  16 steps. Memory size 3265\n",
      "Game #152: total  22 steps. Memory size 3287\n",
      "Game #153: total  41 steps. Memory size 3328\n",
      "Game #154: total  29 steps. Memory size 3357\n",
      "Game #155: total  47 steps. Memory size 3404\n",
      "Game #156: total  79 steps. Memory size 3483\n",
      "Game #157: total 165 steps. Memory size 3648\n",
      "Loss 0.605513\n",
      "Game #158: total  46 steps. Memory size 3694\n",
      "Game #159: total 160 steps. Memory size 3854\n",
      "Game #160: total  33 steps. Memory size 3887\n",
      "Game #161: total  78 steps. Memory size 3965\n",
      "Game #162: total  23 steps. Memory size 3988\n",
      "Game #163: total 127 steps. Memory size 4115\n",
      "Loss 0.522202\n",
      "Game #164: total  75 steps. Memory size 4190\n",
      "Game #165: total  15 steps. Memory size 4205\n",
      "Game #166: total  47 steps. Memory size 4252\n",
      "Game #167: total  83 steps. Memory size 4335\n",
      "Game #168: total  63 steps. Memory size 4398\n",
      "Game #169: total  29 steps. Memory size 4427\n",
      "Game #170: total  59 steps. Memory size 4486\n",
      "Game #171: total  18 steps. Memory size 4504\n",
      "Game #172: total 135 steps. Memory size 4639\n",
      "Loss 0.436136\n",
      "Game #173: total  37 steps. Memory size 4676\n",
      "Game #174: total 182 steps. Memory size 4858\n",
      "Game #175: total  20 steps. Memory size 4878\n",
      "Game #176: total  17 steps. Memory size 4895\n",
      "Game #177: total  16 steps. Memory size 4911\n",
      "Game #178: total 144 steps. Memory size 5055\n",
      "Game #179: total  14 steps. Memory size 5069\n",
      "Game #180: total 103 steps. Memory size 5172\n",
      "Loss 0.442710\n"
     ]
    },
    {
     "name": "stdout",
     "output_type": "stream",
     "text": [
      "Game #181: total  35 steps. Memory size 5207\n",
      "Game #182: total 120 steps. Memory size 5327\n",
      "Game #183: total  59 steps. Memory size 5386\n",
      "Game #184: total 134 steps. Memory size 5520\n",
      "Game #185: total  58 steps. Memory size 5578\n",
      "Game #186: total  20 steps. Memory size 5598\n",
      "Game #187: total 101 steps. Memory size 5699\n",
      "Loss 0.429230\n",
      "Game #188: total  90 steps. Memory size 5789\n",
      "Game #189: total  25 steps. Memory size 5814\n",
      "Game #190: total  43 steps. Memory size 5857\n",
      "Game #191: total  17 steps. Memory size 5874\n",
      "Game #192: total  10 steps. Memory size 5884\n",
      "Game #193: total  20 steps. Memory size 5904\n",
      "Game #194: total  11 steps. Memory size 5915\n",
      "Game #195: total  33 steps. Memory size 5948\n",
      "Game #196: total  52 steps. Memory size 6000\n",
      "Game #197: total  34 steps. Memory size 6034\n",
      "Game #198: total  28 steps. Memory size 6062\n",
      "Game #199: total  39 steps. Memory size 6101\n",
      "Game #200: total 114 steps. Memory size 6215\n",
      "Loss 0.434047\n",
      "Game #201: total  50 steps. Memory size 6265\n",
      "Game #202: total 165 steps. Memory size 6430\n",
      "Game #203: total  39 steps. Memory size 6469\n",
      "Game #204: total  70 steps. Memory size 6539\n",
      "Game #205: total  62 steps. Memory size 6601\n",
      "Game #206: total  33 steps. Memory size 6634\n",
      "Game #207: total 320 steps. Memory size 6954\n",
      "Loss 0.397318\n",
      "Game #208: total  23 steps. Memory size 6977\n",
      "Game #209: total 128 steps. Memory size 7105\n",
      "Game #210: total  29 steps. Memory size 7134\n",
      "Game #211: total  47 steps. Memory size 7181\n",
      "Loss 0.413951\n",
      "Game #212: total 101 steps. Memory size 7282\n",
      "Game #213: total  47 steps. Memory size 7329\n",
      "Game #214: total  65 steps. Memory size 7394\n",
      "Game #215: total  76 steps. Memory size 7470\n",
      "Game #216: total  25 steps. Memory size 7495\n",
      "Game #217: total  71 steps. Memory size 7566\n",
      "Game #218: total  80 steps. Memory size 7646\n",
      "Game #219: total  29 steps. Memory size 7675\n",
      "Game #220: total  19 steps. Memory size 7694\n",
      "Loss 0.416983\n",
      "Game #221: total  71 steps. Memory size 7765\n",
      "Game #222: total  49 steps. Memory size 7814\n",
      "Game #223: total  66 steps. Memory size 7880\n",
      "Game #224: total  12 steps. Memory size 7892\n",
      "Game #225: total  45 steps. Memory size 7937\n",
      "Game #226: total  48 steps. Memory size 7985\n",
      "Game #227: total  43 steps. Memory size 8028\n",
      "Game #228: total  45 steps. Memory size 8073\n",
      "Game #229: total  94 steps. Memory size 8167\n",
      "Game #230: total  95 steps. Memory size 8262\n",
      "Loss 0.366777\n",
      "Game #231: total  89 steps. Memory size 8351\n",
      "Game #232: total  55 steps. Memory size 8406\n",
      "Game #233: total  72 steps. Memory size 8478\n",
      "Game #234: total  15 steps. Memory size 8493\n",
      "Game #235: total  16 steps. Memory size 8509\n",
      "Game #236: total 237 steps. Memory size 8746\n",
      "Loss 0.352305\n",
      "Game #237: total 118 steps. Memory size 8864\n",
      "Game #238: total 264 steps. Memory size 9128\n",
      "Game #239: total  13 steps. Memory size 9141\n",
      "Game #240: total 159 steps. Memory size 9300\n",
      "Loss 0.342066\n",
      "Game #241: total  19 steps. Memory size 9319\n",
      "Game #242: total  23 steps. Memory size 9342\n",
      "Game #243: total 200 steps. Memory size 9542\n",
      "Game #244: total  44 steps. Memory size 9586\n",
      "Game #245: total  55 steps. Memory size 9641\n",
      "Game #246: total  29 steps. Memory size 9670\n",
      "Game #247: total  47 steps. Memory size 9717\n",
      "Game #248: total 148 steps. Memory size 9865\n",
      "Loss 0.334284\n",
      "Game #249: total  24 steps. Memory size 9889\n",
      "Game #250: total  96 steps. Memory size 9985\n",
      "Game #251: total  91 steps. Memory size 10076\n",
      "Game #252: total  64 steps. Memory size 10140\n",
      "Game #253: total  13 steps. Memory size 10153\n",
      "Game #254: total  23 steps. Memory size 10176\n",
      "Game #255: total  68 steps. Memory size 10244\n",
      "Loss 0.293876\n",
      "Game #256: total   9 steps. Memory size 10253\n",
      "Game #257: total  48 steps. Memory size 10301\n",
      "Game #258: total  85 steps. Memory size 10386\n",
      "Game #259: total  17 steps. Memory size 10403\n",
      "Game #260: total  14 steps. Memory size 10417\n",
      "Game #261: total 144 steps. Memory size 10561\n",
      "Game #262: total  89 steps. Memory size 10650\n",
      "Game #263: total  97 steps. Memory size 10747\n",
      "Game #264: total  20 steps. Memory size 10767\n",
      "Loss 0.308855\n",
      "Game #265: total  21 steps. Memory size 10788\n",
      "Game #266: total  30 steps. Memory size 10818\n",
      "Game #267: total  74 steps. Memory size 10892\n",
      "Game #268: total  37 steps. Memory size 10929\n",
      "Game #269: total  56 steps. Memory size 10985\n",
      "Game #270: total  40 steps. Memory size 11025\n",
      "Game #271: total  32 steps. Memory size 11057\n",
      "Game #272: total  12 steps. Memory size 11069\n",
      "Game #273: total  65 steps. Memory size 11134\n",
      "Game #274: total 114 steps. Memory size 11248\n",
      "Game #275: total  40 steps. Memory size 11288\n",
      "Loss 0.313496\n",
      "Game #276: total  58 steps. Memory size 11346\n",
      "Game #277: total  84 steps. Memory size 11430\n",
      "Game #278: total 189 steps. Memory size 11619\n",
      "Game #279: total  84 steps. Memory size 11703\n",
      "Game #280: total  63 steps. Memory size 11766\n",
      "Game #281: total  90 steps. Memory size 11856\n",
      "Loss 0.353561\n",
      "Game #282: total  70 steps. Memory size 11926\n",
      "Game #283: total  27 steps. Memory size 11953\n",
      "Game #284: total 131 steps. Memory size 12084\n",
      "Game #285: total  90 steps. Memory size 12174\n",
      "Game #286: total  19 steps. Memory size 12193\n",
      "Game #287: total 113 steps. Memory size 12306\n",
      "Loss 0.347985\n",
      "Game #288: total  51 steps. Memory size 12357\n",
      "Game #289: total  74 steps. Memory size 12431\n",
      "Game #290: total  91 steps. Memory size 12522\n",
      "Game #291: total 133 steps. Memory size 12655\n",
      "Game #292: total  88 steps. Memory size 12743\n",
      "Game #293: total  97 steps. Memory size 12840\n",
      "Loss 0.317670\n",
      "Game #294: total  31 steps. Memory size 12871\n"
     ]
    }
   ],
   "source": [
    "max_games = 10000\n",
    "max_steps_per_game = 1000\n",
    "max_batch_size = 1024 * 16\n",
    "reward_discount = 0.8\n",
    "\n",
    "sim.stop()\n",
    "sim = Simulator()\n",
    "can_train = False\n",
    "\n",
    "with tf.Session() as sess:\n",
    "    sess.run([tf.global_variables_initializer(), tf.local_variables_initializer()])\n",
    "\n",
    "    added = 0\n",
    "    for game_id in range(max_games):\n",
    "        state = State()\n",
    "        state.draw()\n",
    "        state_history = [0]\n",
    "\n",
    "        step = 0\n",
    "        for step in range(max_steps_per_game):\n",
    "            # print(\"Step\", step)\n",
    "            # plot(state)\n",
    "            boards = sim.brute(state)\n",
    "            # print(\"Available moves:\", len(boards))\n",
    "            if boards.shape[0] == 0:\n",
    "                break\n",
    "\n",
    "            unpacked_boards = unpack_array(boards)\n",
    "            # predicting boards probabilities\n",
    "            all_probs = []\n",
    "            for b in range(0, unpacked_boards.shape[0], max_batch_size):\n",
    "                probs = sess.run(tf_probabilities, feed_dict={\n",
    "                    tf_input_data: unpacked_boards[b:b+max_batch_size],\n",
    "                })\n",
    "                all_probs.append(probs)\n",
    "            \n",
    "            joined_probs = np.concatenate(all_probs)\n",
    "            # joined_probs_sum = joined_probs.sum()\n",
    "            # joined_probs /= joined_probs_sum if joined_probs_sum > 0 else 1.0\n",
    "            best_board = boards[joined_probs.argmax()]\n",
    "            state_history.append(best_board)\n",
    "            # best_move = sim.get_move(best_board)\n",
    "            # print(\"Moves\", best_move)\n",
    "            state = State(best_board)\n",
    "            state.draw()\n",
    "        \n",
    "        state_history = np.array(state_history, dtype=np.uint64)\n",
    "        labels = (1.0 - np.power(reward_discount, np.arange(state_history.shape[0], dtype=np.float32)))[::-1]\n",
    "        unpacked_history = unpack_array(state_history)\n",
    "        MEMORY.extend(zip(unpacked_history, labels))\n",
    "        added += unpacked_history.shape[0]\n",
    "        \n",
    "        print(\"Game #%3d: total %3d steps. Memory size %d\" % (game_id, step + 1, len(MEMORY)))\n",
    "\n",
    "        if (added >= batch_size):\n",
    "            loss, _ = sess.run([tf_loss, tf_train])\n",
    "            added -= batch_size\n",
    "            print(\"Loss %.6f\" % (loss,))\n"
   ]
  },
  {
   "cell_type": "code",
   "execution_count": null,
   "metadata": {},
   "outputs": [],
   "source": []
  },
  {
   "cell_type": "code",
   "execution_count": null,
   "metadata": {},
   "outputs": [],
   "source": []
  },
  {
   "cell_type": "code",
   "execution_count": null,
   "metadata": {},
   "outputs": [],
   "source": []
  },
  {
   "cell_type": "code",
   "execution_count": null,
   "metadata": {},
   "outputs": [],
   "source": []
  },
  {
   "cell_type": "code",
   "execution_count": 62,
   "metadata": {},
   "outputs": [],
   "source": []
  },
  {
   "cell_type": "code",
   "execution_count": 59,
   "metadata": {},
   "outputs": [],
   "source": [
    "mask = ((1 << 8) - 1) // 3\n",
    "mask = mask | (mask << 9)\n",
    "mask = mask | (mask << 16)\n",
    "mask = mask | (mask << 32)"
   ]
  },
  {
   "cell_type": "code",
   "execution_count": 60,
   "metadata": {},
   "outputs": [
    {
     "name": "stdout",
     "output_type": "stream",
     "text": [
      "BRUTE 12273903644374837845 1 3 257\n",
      "\n"
     ]
    },
    {
     "data": {
      "image/png": "[encoded data removed]",
      "text/plain": [
       "<Figure size 576x288 with 1 Axes>"
      ]
     },
     "metadata": {},
     "output_type": "display_data"
    },
    {
     "data": {
      "image/png": "[encoded data removed]",
      "text/plain": [
       "<Figure size 288x144 with 1 Axes>"
      ]
     },
     "metadata": {},
     "output_type": "display_data"
    }
   ],
   "source": [
    "print(\"BRUTE %d %d %d %d\\n\" % (mask, 1, 3, 257))\n",
    "plot(State(mask))"
   ]
  },
  {
   "cell_type": "code",
   "execution_count": null,
   "metadata": {},
   "outputs": [],
   "source": []
  },
  {
   "cell_type": "code",
   "execution_count": null,
   "metadata": {},
   "outputs": [],
   "source": []
  }
 ],
 "metadata": {
  "kernelspec": {
   "display_name": "Python 3",
   "language": "python",
   "name": "python3"
  },
  "language_info": {
   "codemirror_mode": {
    "name": "ipython",
    "version": 3
   },
   "file_extension": ".py",
   "mimetype": "text/x-python",
   "name": "python",
   "nbconvert_exporter": "python",
   "pygments_lexer": "ipython3",
   "version": "3.6.3"
  }
 },
 "nbformat": 4,
 "nbformat_minor": 2
}
